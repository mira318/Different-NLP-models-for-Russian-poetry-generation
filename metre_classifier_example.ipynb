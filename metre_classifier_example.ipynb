{
 "cells": [
  {
   "cell_type": "code",
   "execution_count": 3,
   "id": "288eca44",
   "metadata": {},
   "outputs": [],
   "source": [
    "from src.metre_classifier.stress.dict import StressDict\n",
    "from src.metre_classifier.stress.predictor import CombinedStressPredictor\n",
    "from src.metre_classifier.markup.markup import Markup\n",
    "from src.metre_classifier.metre_classifier import MetreClassifier"
   ]
  },
  {
   "cell_type": "code",
   "execution_count": 4,
   "id": "f201fc61",
   "metadata": {},
   "outputs": [],
   "source": [
    "dict = StressDict()"
   ]
  },
  {
   "cell_type": "code",
   "execution_count": 5,
   "id": "e4638d4f",
   "metadata": {},
   "outputs": [
    {
     "name": "stderr",
     "output_type": "stream",
     "text": [
      "Explicitly passing a `revision` is encouraged when loading a model with custom code to ensure no malicious code has been contributed in a newer revision.\n"
     ]
    }
   ],
   "source": [
    "stress_predictor = CombinedStressPredictor()"
   ]
  },
  {
   "cell_type": "code",
   "execution_count": 7,
   "id": "5bcd7d98",
   "metadata": {},
   "outputs": [
    {
     "data": {
      "text/plain": [
       "[3]"
      ]
     },
     "execution_count": 7,
     "metadata": {},
     "output_type": "execute_result"
    }
   ],
   "source": [
    "stress_predictor.predict('корова')"
   ]
  },
  {
   "cell_type": "code",
   "execution_count": 8,
   "id": "5c9107b1",
   "metadata": {},
   "outputs": [
    {
     "data": {
      "text/plain": [
       "[1, 3, 5]"
      ]
     },
     "execution_count": 8,
     "metadata": {},
     "output_type": "execute_result"
    }
   ],
   "source": [
    "stress_predictor.predict('ворона')"
   ]
  },
  {
   "cell_type": "code",
   "execution_count": 9,
   "id": "91995651",
   "metadata": {},
   "outputs": [],
   "source": [
    "def classify_metre(text: str, stress_predictor) -> str:\n",
    "    return MetreClassifier.classify_metre(Markup.process_text(text, stress_predictor)).metre"
   ]
  },
  {
   "cell_type": "code",
   "execution_count": 10,
   "id": "22264025",
   "metadata": {},
   "outputs": [],
   "source": [
    "text = \"Буря мглою небо кроет,\\n\" \\\n",
    "        \"Вихри снежные крутя;\\n\" \\\n",
    "        \"То, как зверь, она завоет,\\n\" \\\n",
    "        \"То заплачет, как дитя...\""
   ]
  },
  {
   "cell_type": "code",
   "execution_count": 11,
   "id": "bf5e0c7a",
   "metadata": {},
   "outputs": [
    {
     "data": {
      "text/plain": [
       "'choreios'"
      ]
     },
     "execution_count": 11,
     "metadata": {},
     "output_type": "execute_result"
    }
   ],
   "source": [
    "classify_metre(text, stress_predictor)"
   ]
  }
 ],
 "metadata": {
  "kernelspec": {
   "display_name": "Python 3 (ipykernel)",
   "language": "python",
   "name": "python3"
  },
  "language_info": {
   "codemirror_mode": {
    "name": "ipython",
    "version": 3
   },
   "file_extension": ".py",
   "mimetype": "text/x-python",
   "name": "python",
   "nbconvert_exporter": "python",
   "pygments_lexer": "ipython3",
   "version": "3.10.9"
  }
 },
 "nbformat": 4,
 "nbformat_minor": 5
}
